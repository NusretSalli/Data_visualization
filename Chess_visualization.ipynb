{
 "cells": [
  {
   "cell_type": "markdown",
   "metadata": {},
   "source": [
    "## Initilization"
   ]
  },
  {
   "cell_type": "code",
   "execution_count": 2,
   "metadata": {},
   "outputs": [],
   "source": [
    "import seaborn as sns\n",
    "\n",
    "import pandas as pd\n",
    "\n",
    "import matplotlib.pyplot as plt\n",
    "\n",
    "import numpy as np"
   ]
  },
  {
   "cell_type": "markdown",
   "metadata": {},
   "source": [
    "Reading the data into python"
   ]
  },
  {
   "cell_type": "code",
   "execution_count": 3,
   "metadata": {},
   "outputs": [
    {
     "data": {
      "text/plain": [
       "(859370, 12)"
      ]
     },
     "execution_count": 3,
     "metadata": {},
     "output_type": "execute_result"
    }
   ],
   "source": [
    "chess_dataframe = pd.read_csv(\"Data\\chess.csv\")\n",
    "\n",
    "chess_dataframe.shape"
   ]
  },
  {
   "attachments": {},
   "cell_type": "markdown",
   "metadata": {},
   "source": [
    "# Getting info about our data"
   ]
  },
  {
   "cell_type": "markdown",
   "metadata": {},
   "source": [
    "Getting info about our data"
   ]
  },
  {
   "cell_type": "code",
   "execution_count": 4,
   "metadata": {},
   "outputs": [
    {
     "name": "stdout",
     "output_type": "stream",
     "text": [
      "<class 'pandas.core.frame.DataFrame'>\n",
      "RangeIndex: 859370 entries, 0 to 859369\n",
      "Data columns (total 12 columns):\n",
      " #   Column          Non-Null Count   Dtype \n",
      "---  ------          --------------   ----- \n",
      " 0   time_control    859370 non-null  object\n",
      " 1   end_time        859370 non-null  object\n",
      " 2   rated           859370 non-null  bool  \n",
      " 3   time_class      859370 non-null  object\n",
      " 4   rules           859370 non-null  object\n",
      " 5   gm_username     859370 non-null  object\n",
      " 6   white_username  859370 non-null  object\n",
      " 7   white_rating    859370 non-null  int64 \n",
      " 8   white_result    859370 non-null  object\n",
      " 9   black_username  859370 non-null  object\n",
      " 10  black_rating    859370 non-null  int64 \n",
      " 11  black_result    859370 non-null  object\n",
      "dtypes: bool(1), int64(2), object(9)\n",
      "memory usage: 72.9+ MB\n"
     ]
    }
   ],
   "source": [
    "chess_dataframe.info()"
   ]
  },
  {
   "cell_type": "code",
   "execution_count": 5,
   "metadata": {},
   "outputs": [
    {
     "data": {
      "text/html": [
       "<div>\n",
       "<style scoped>\n",
       "    .dataframe tbody tr th:only-of-type {\n",
       "        vertical-align: middle;\n",
       "    }\n",
       "\n",
       "    .dataframe tbody tr th {\n",
       "        vertical-align: top;\n",
       "    }\n",
       "\n",
       "    .dataframe thead th {\n",
       "        text-align: right;\n",
       "    }\n",
       "</style>\n",
       "<table border=\"1\" class=\"dataframe\">\n",
       "  <thead>\n",
       "    <tr style=\"text-align: right;\">\n",
       "      <th></th>\n",
       "      <th>time_control</th>\n",
       "      <th>end_time</th>\n",
       "      <th>rated</th>\n",
       "      <th>time_class</th>\n",
       "      <th>rules</th>\n",
       "      <th>gm_username</th>\n",
       "      <th>white_username</th>\n",
       "      <th>white_rating</th>\n",
       "      <th>white_result</th>\n",
       "      <th>black_username</th>\n",
       "      <th>black_rating</th>\n",
       "      <th>black_result</th>\n",
       "    </tr>\n",
       "  </thead>\n",
       "  <tbody>\n",
       "    <tr>\n",
       "      <th>0</th>\n",
       "      <td>300+1</td>\n",
       "      <td>2021-06-19 11:40:40</td>\n",
       "      <td>True</td>\n",
       "      <td>blitz</td>\n",
       "      <td>chess</td>\n",
       "      <td>123lt</td>\n",
       "      <td>vaishali2001</td>\n",
       "      <td>2658</td>\n",
       "      <td>win</td>\n",
       "      <td>123lt</td>\n",
       "      <td>2601</td>\n",
       "      <td>resigned</td>\n",
       "    </tr>\n",
       "    <tr>\n",
       "      <th>1</th>\n",
       "      <td>300+1</td>\n",
       "      <td>2021-06-19 11:50:06</td>\n",
       "      <td>True</td>\n",
       "      <td>blitz</td>\n",
       "      <td>chess</td>\n",
       "      <td>123lt</td>\n",
       "      <td>123lt</td>\n",
       "      <td>2627</td>\n",
       "      <td>win</td>\n",
       "      <td>vaishali2001</td>\n",
       "      <td>2649</td>\n",
       "      <td>resigned</td>\n",
       "    </tr>\n",
       "    <tr>\n",
       "      <th>2</th>\n",
       "      <td>300+1</td>\n",
       "      <td>2021-06-19 12:01:17</td>\n",
       "      <td>True</td>\n",
       "      <td>blitz</td>\n",
       "      <td>chess</td>\n",
       "      <td>123lt</td>\n",
       "      <td>vaishali2001</td>\n",
       "      <td>2641</td>\n",
       "      <td>timeout</td>\n",
       "      <td>123lt</td>\n",
       "      <td>2649</td>\n",
       "      <td>win</td>\n",
       "    </tr>\n",
       "    <tr>\n",
       "      <th>3</th>\n",
       "      <td>300+1</td>\n",
       "      <td>2021-06-19 12:13:05</td>\n",
       "      <td>True</td>\n",
       "      <td>blitz</td>\n",
       "      <td>chess</td>\n",
       "      <td>123lt</td>\n",
       "      <td>123lt</td>\n",
       "      <td>2629</td>\n",
       "      <td>timeout</td>\n",
       "      <td>vaishali2001</td>\n",
       "      <td>2649</td>\n",
       "      <td>win</td>\n",
       "    </tr>\n",
       "    <tr>\n",
       "      <th>4</th>\n",
       "      <td>300+1</td>\n",
       "      <td>2021-06-19 12:28:54</td>\n",
       "      <td>True</td>\n",
       "      <td>blitz</td>\n",
       "      <td>chess</td>\n",
       "      <td>123lt</td>\n",
       "      <td>vaishali2001</td>\n",
       "      <td>2657</td>\n",
       "      <td>win</td>\n",
       "      <td>123lt</td>\n",
       "      <td>2611</td>\n",
       "      <td>resigned</td>\n",
       "    </tr>\n",
       "  </tbody>\n",
       "</table>\n",
       "</div>"
      ],
      "text/plain": [
       "  time_control             end_time  rated time_class  rules gm_username  \\\n",
       "0        300+1  2021-06-19 11:40:40   True      blitz  chess       123lt   \n",
       "1        300+1  2021-06-19 11:50:06   True      blitz  chess       123lt   \n",
       "2        300+1  2021-06-19 12:01:17   True      blitz  chess       123lt   \n",
       "3        300+1  2021-06-19 12:13:05   True      blitz  chess       123lt   \n",
       "4        300+1  2021-06-19 12:28:54   True      blitz  chess       123lt   \n",
       "\n",
       "  white_username  white_rating white_result black_username  black_rating  \\\n",
       "0   vaishali2001          2658          win          123lt          2601   \n",
       "1          123lt          2627          win   vaishali2001          2649   \n",
       "2   vaishali2001          2641      timeout          123lt          2649   \n",
       "3          123lt          2629      timeout   vaishali2001          2649   \n",
       "4   vaishali2001          2657          win          123lt          2611   \n",
       "\n",
       "  black_result  \n",
       "0     resigned  \n",
       "1     resigned  \n",
       "2          win  \n",
       "3          win  \n",
       "4     resigned  "
      ]
     },
     "execution_count": 5,
     "metadata": {},
     "output_type": "execute_result"
    }
   ],
   "source": [
    "chess_dataframe.head(5)"
   ]
  },
  {
   "cell_type": "markdown",
   "metadata": {},
   "source": [
    "Getting a sub-dataframe that include the result as well as colour\n",
    "\n"
   ]
  },
  {
   "cell_type": "code",
   "execution_count": 6,
   "metadata": {},
   "outputs": [
    {
     "data": {
      "text/html": [
       "<div>\n",
       "<style scoped>\n",
       "    .dataframe tbody tr th:only-of-type {\n",
       "        vertical-align: middle;\n",
       "    }\n",
       "\n",
       "    .dataframe tbody tr th {\n",
       "        vertical-align: top;\n",
       "    }\n",
       "\n",
       "    .dataframe thead th {\n",
       "        text-align: right;\n",
       "    }\n",
       "</style>\n",
       "<table border=\"1\" class=\"dataframe\">\n",
       "  <thead>\n",
       "    <tr style=\"text-align: right;\">\n",
       "      <th></th>\n",
       "      <th>white_username</th>\n",
       "      <th>white_rating</th>\n",
       "      <th>white_result</th>\n",
       "      <th>black_username</th>\n",
       "      <th>black_rating</th>\n",
       "      <th>black_result</th>\n",
       "    </tr>\n",
       "  </thead>\n",
       "  <tbody>\n",
       "    <tr>\n",
       "      <th>0</th>\n",
       "      <td>vaishali2001</td>\n",
       "      <td>2658</td>\n",
       "      <td>win</td>\n",
       "      <td>123lt</td>\n",
       "      <td>2601</td>\n",
       "      <td>resigned</td>\n",
       "    </tr>\n",
       "    <tr>\n",
       "      <th>1</th>\n",
       "      <td>123lt</td>\n",
       "      <td>2627</td>\n",
       "      <td>win</td>\n",
       "      <td>vaishali2001</td>\n",
       "      <td>2649</td>\n",
       "      <td>resigned</td>\n",
       "    </tr>\n",
       "    <tr>\n",
       "      <th>2</th>\n",
       "      <td>vaishali2001</td>\n",
       "      <td>2641</td>\n",
       "      <td>timeout</td>\n",
       "      <td>123lt</td>\n",
       "      <td>2649</td>\n",
       "      <td>win</td>\n",
       "    </tr>\n",
       "    <tr>\n",
       "      <th>3</th>\n",
       "      <td>123lt</td>\n",
       "      <td>2629</td>\n",
       "      <td>timeout</td>\n",
       "      <td>vaishali2001</td>\n",
       "      <td>2649</td>\n",
       "      <td>win</td>\n",
       "    </tr>\n",
       "    <tr>\n",
       "      <th>4</th>\n",
       "      <td>vaishali2001</td>\n",
       "      <td>2657</td>\n",
       "      <td>win</td>\n",
       "      <td>123lt</td>\n",
       "      <td>2611</td>\n",
       "      <td>resigned</td>\n",
       "    </tr>\n",
       "  </tbody>\n",
       "</table>\n",
       "</div>"
      ],
      "text/plain": [
       "  white_username  white_rating white_result black_username  black_rating  \\\n",
       "0   vaishali2001          2658          win          123lt          2601   \n",
       "1          123lt          2627          win   vaishali2001          2649   \n",
       "2   vaishali2001          2641      timeout          123lt          2649   \n",
       "3          123lt          2629      timeout   vaishali2001          2649   \n",
       "4   vaishali2001          2657          win          123lt          2611   \n",
       "\n",
       "  black_result  \n",
       "0     resigned  \n",
       "1     resigned  \n",
       "2          win  \n",
       "3          win  \n",
       "4     resigned  "
      ]
     },
     "execution_count": 6,
     "metadata": {},
     "output_type": "execute_result"
    }
   ],
   "source": [
    "win_result_df = chess_dataframe.iloc[:,6:]\n",
    "\n",
    "win_result_df.head(5)"
   ]
  },
  {
   "cell_type": "markdown",
   "metadata": {},
   "source": [
    "Check differeces between the black and white side"
   ]
  },
  {
   "cell_type": "code",
   "execution_count": 7,
   "metadata": {},
   "outputs": [
    {
     "data": {
      "text/plain": [
       "win                    37355\n",
       "resigned              -29152\n",
       "timeout                -1461\n",
       "checkmated             -7596\n",
       "repetition                 0\n",
       "agreed                     0\n",
       "insufficient               0\n",
       "timevsinsufficient         0\n",
       "bughousepartnerlose      626\n",
       "stalemate                  0\n",
       "abandoned                223\n",
       "50move                     0\n",
       "threecheck                 7\n",
       "kingofthehill             -2\n",
       "dtype: int64"
      ]
     },
     "execution_count": 7,
     "metadata": {},
     "output_type": "execute_result"
    }
   ],
   "source": [
    "len(win_result_df[\"white_username\"].explode().unique()) # A lot of different users - 37943 users\n",
    "\n",
    "white_win_ratio = (win_result_df[\"white_result\"] == \"win\").sum() / win_result_df.shape[0] * 100\n",
    "\n",
    "win_result_df[\"white_result\"].value_counts() - win_result_df[\"black_result\"].value_counts() # check differences for the 2 side.\n",
    "\n"
   ]
  },
  {
   "cell_type": "code",
   "execution_count": 14,
   "metadata": {},
   "outputs": [],
   "source": [
    "# make a new column called \"win\" which takes the result from white and black and put it together\n",
    "\n",
    "chess_dataframe.loc[chess_dataframe['white_result'] == \"win\",'win'] = 'white'\n",
    "chess_dataframe.loc[chess_dataframe['black_result'] == \"win\",'win'] = 'black'\n",
    "\n",
    "# all those that are draws will also be filled out with\n",
    "\n",
    "chess_dataframe['win']=chess_dataframe['win'].fillna(\"draw\")\n"
   ]
  },
  {
   "cell_type": "markdown",
   "metadata": {},
   "source": [
    "## Using SQL to get some fun data out"
   ]
  },
  {
   "cell_type": "markdown",
   "metadata": {},
   "source": [
    "## PLOTTING SECTION"
   ]
  },
  {
   "cell_type": "code",
   "execution_count": 16,
   "metadata": {},
   "outputs": [
    {
     "data": {
      "text/plain": [
       "<AxesSubplot:xlabel='count', ylabel='time_class'>"
      ]
     },
     "execution_count": 16,
     "metadata": {},
     "output_type": "execute_result"
    },
    {
     "data": {
      "image/png": "[encoded data removed]",
      "text/plain": [
       "<Figure size 640x480 with 1 Axes>"
      ]
     },
     "metadata": {},
     "output_type": "display_data"
    }
   ],
   "source": [
    "sns.set_theme(style=\"darkgrid\") # using a theme\n",
    "\n",
    "sns.countplot(y='time_class',hue='win',data=chess_dataframe)"
   ]
  }
 ],
 "metadata": {
  "kernelspec": {
   "display_name": "Python 3.10.6 ('ML')",
   "language": "python",
   "name": "python3"
  },
  "language_info": {
   "codemirror_mode": {
    "name": "ipython",
    "version": 3
   },
   "file_extension": ".py",
   "mimetype": "text/x-python",
   "name": "python",
   "nbconvert_exporter": "python",
   "pygments_lexer": "ipython3",
   "version": "3.10.6"
  },
  "orig_nbformat": 4,
  "vscode": {
   "interpreter": {
    "hash": "4ed7c47f717abdec836183c2b16bbbd90c925aaedab54e10c1497886bded7e39"
   }
  }
 },
 "nbformat": 4,
 "nbformat_minor": 2
}

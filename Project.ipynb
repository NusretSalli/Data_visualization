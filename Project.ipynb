{
 "cells": [
  {
   "cell_type": "markdown",
   "metadata": {},
   "source": [
    "Importing the necessary packages"
   ]
  },
  {
   "cell_type": "code",
   "execution_count": 4,
   "metadata": {},
   "outputs": [],
   "source": [
    "import seaborn as sns\n",
    "\n",
    "import pandas as pd\n",
    "\n",
    "import matplotlib.pyplot as plt\n",
    "\n",
    "import numpy as np"
   ]
  },
  {
   "cell_type": "markdown",
   "metadata": {},
   "source": [
    "Reading the data into python"
   ]
  },
  {
   "cell_type": "code",
   "execution_count": 8,
   "metadata": {},
   "outputs": [
    {
     "data": {
      "text/plain": [
       "((859370, 12),)"
      ]
     },
     "execution_count": 8,
     "metadata": {},
     "output_type": "execute_result"
    }
   ],
   "source": [
    "chess_dataframe = pd.read_csv(\"Data\\chess.csv\")\n",
    "\n",
    "#im_games_dataframe = pd.read_csv(\"Data\\im_games.csv\")\n",
    "\n",
    "chess_dataframe.shape, #im_games_dataframe.shape\n",
    "\n"
   ]
  },
  {
   "cell_type": "markdown",
   "metadata": {},
   "source": [
    "Getting info about our data"
   ]
  },
  {
   "cell_type": "code",
   "execution_count": 9,
   "metadata": {},
   "outputs": [
    {
     "name": "stdout",
     "output_type": "stream",
     "text": [
      "<class 'pandas.core.frame.DataFrame'>\n",
      "RangeIndex: 859370 entries, 0 to 859369\n",
      "Data columns (total 12 columns):\n",
      " #   Column          Non-Null Count   Dtype \n",
      "---  ------          --------------   ----- \n",
      " 0   time_control    859370 non-null  object\n",
      " 1   end_time        859370 non-null  object\n",
      " 2   rated           859370 non-null  bool  \n",
      " 3   time_class      859370 non-null  object\n",
      " 4   rules           859370 non-null  object\n",
      " 5   gm_username     859370 non-null  object\n",
      " 6   white_username  859370 non-null  object\n",
      " 7   white_rating    859370 non-null  int64 \n",
      " 8   white_result    859370 non-null  object\n",
      " 9   black_username  859370 non-null  object\n",
      " 10  black_rating    859370 non-null  int64 \n",
      " 11  black_result    859370 non-null  object\n",
      "dtypes: bool(1), int64(2), object(9)\n",
      "memory usage: 72.9+ MB\n"
     ]
    }
   ],
   "source": []
  }
 ],
 "metadata": {
  "kernelspec": {
   "display_name": "Python 3.10.6 ('ML')",
   "language": "python",
   "name": "python3"
  },
  "language_info": {
   "codemirror_mode": {
    "name": "ipython",
    "version": 3
   },
   "file_extension": ".py",
   "mimetype": "text/x-python",
   "name": "python",
   "nbconvert_exporter": "python",
   "pygments_lexer": "ipython3",
   "version": "3.10.6"
  },
  "orig_nbformat": 4,
  "vscode": {
   "interpreter": {
    "hash": "4ed7c47f717abdec836183c2b16bbbd90c925aaedab54e10c1497886bded7e39"
   }
  }
 },
 "nbformat": 4,
 "nbformat_minor": 2
}
